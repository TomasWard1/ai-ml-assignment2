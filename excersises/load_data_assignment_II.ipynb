{
 "cells": [
  {
   "cell_type": "markdown",
   "id": "a300fc80",
   "metadata": {},
   "source": [
    "# Assignment: Exploring Neural Networks with MNIST and Color MNIST\n",
    "\n",
    "\n",
    "## Introduction\n",
    "\n",
    "This notebook is meant to help you with loading the color MNIST dataset necessary for Assignment II. \n",
    "\n",
    "---\n"
   ]
  },
  {
   "cell_type": "code",
   "execution_count": null,
   "id": "fe279bab",
   "metadata": {},
   "outputs": [],
   "source": [
    "# Import necessary libraries\n",
    "import matplotlib.pyplot as plt\n",
    "from tensorflow.keras.datasets import mnist\n",
    "from tensorflow.keras.utils import to_categorical"
   ]
  },
  {
   "cell_type": "markdown",
   "id": "6c7db66c",
   "metadata": {},
   "source": [
    "### Loading Color MNIST from Kaggle\n",
    "\n",
    "Dataset to be used in exercises 1-4."
   ]
  },
  {
   "cell_type": "code",
   "execution_count": null,
   "id": "23fe889f",
   "metadata": {},
   "outputs": [],
   "source": [
    "(x_train, y_train), (x_test, y_test) = mnist.load_data()"
   ]
  },
  {
   "cell_type": "code",
   "execution_count": null,
   "id": "47a5f82d",
   "metadata": {},
   "outputs": [],
   "source": [
    "x_train[0].shape"
   ]
  },
  {
   "cell_type": "code",
   "execution_count": null,
   "id": "6599d4f7",
   "metadata": {},
   "outputs": [],
   "source": [
    "plt.imshow(x_train[0])"
   ]
  },
  {
   "cell_type": "markdown",
   "id": "e2db88a9",
   "metadata": {},
   "source": [
    "### Loading Color MNIST from Kaggle\n",
    "Dataset to be used in exercise 5.  \n",
    "\n",
    "**Note**:  \n",
    "The Color MNIST dataset is available on Kaggle. You need to download the dataset manually and place it in a directory accessible to your notebook. Then update the \"data_dir\" variable.\n",
    "\n",
    "The function below will load 1k images per class (you can change the function to load more if needed)."
   ]
  },
  {
   "cell_type": "code",
   "execution_count": null,
   "id": "7b13513d",
   "metadata": {},
   "outputs": [],
   "source": [
    "import os\n",
    "import numpy as np\n",
    "from PIL import Image\n",
    "\n",
    "# Function to load images from labeled folders\n",
    "def load_images(data_dir):\n",
    "    labels = []\n",
    "    images = []\n",
    "    classes = sorted(os.listdir(data_dir))  # Get the folders/classes (labels)\n",
    "\n",
    "    # Loop through all folders\n",
    "    for idx, class_name in enumerate(classes):\n",
    "        class_folder = os.path.join(data_dir, class_name)\n",
    "        print('Loading class %s' %class_name)\n",
    "        \n",
    "        if os.path.isdir(class_folder):\n",
    "            # Loop through each image file within the class folder\n",
    "            for img_name in os.listdir(class_folder)[0:1000]:\n",
    "                img_path = os.path.join(class_folder, img_name)\n",
    "\n",
    "                try:\n",
    "                    # Load the image, resize it, and convert to a numpy array\n",
    "                    img = Image.open(img_path)\n",
    "                    img_array = np.array(img)\n",
    "\n",
    "                    # Add the image to the list and its corresponding label (class index)\n",
    "                    images.append(img_array)\n",
    "                    labels.append(idx)\n",
    "                except Exception as e:\n",
    "                    print(f\"Error loading image {img_path}: {e}\")\n",
    "    \n",
    "    # Convert lists to numpy arrays\n",
    "    images = np.array(images)\n",
    "    labels = np.array(labels)\n",
    "    \n",
    "    return images, labels, classes\n",
    "\n",
    "# Specify the directory where images are stored\n",
    "# note: you may need to use the function more than once to load the training/testing dataset\n",
    "data_dir = '''path/to/your/dataset'''\n",
    "\n",
    "# Call the function to load images and labels\n",
    "images, labels, classes = load_images(data_dir)\n",
    "\n",
    "# Print the result\n",
    "print(f\"Loaded images: {images.shape}\")\n",
    "print(f\"Loaded labels: {labels.shape}\")\n",
    "print(f\"Classes: {classes}\")\n"
   ]
  },
  {
   "cell_type": "code",
   "execution_count": null,
   "id": "8d017847",
   "metadata": {},
   "outputs": [],
   "source": [
    "images[200].shape"
   ]
  },
  {
   "cell_type": "code",
   "execution_count": null,
   "id": "c6d460d4",
   "metadata": {},
   "outputs": [],
   "source": [
    "plt.imshow(images[782])"
   ]
  },
  {
   "cell_type": "code",
   "execution_count": null,
   "id": "bc851ae6",
   "metadata": {},
   "outputs": [],
   "source": []
  }
 ],
 "metadata": {
  "kernelspec": {
   "display_name": "Python 3",
   "language": "python",
   "name": "python3"
  },
  "language_info": {
   "codemirror_mode": {
    "name": "ipython",
    "version": 3
   },
   "file_extension": ".py",
   "mimetype": "text/x-python",
   "name": "python",
   "nbconvert_exporter": "python",
   "pygments_lexer": "ipython3",
   "version": "3.9.6"
  }
 },
 "nbformat": 4,
 "nbformat_minor": 5
}
